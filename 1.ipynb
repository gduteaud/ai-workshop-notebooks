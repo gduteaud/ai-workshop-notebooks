{
 "cells": [
  {
   "cell_type": "markdown",
   "id": "ca661c6f",
   "metadata": {},
   "source": [
    "# Single OpenRouter LLM call via API call"
   ]
  },
  {
   "cell_type": "code",
   "execution_count": null,
   "id": "a8690d60-611c-4344-84cf-a61bd26de995",
   "metadata": {},
   "outputs": [],
   "source": [
    "import os\n",
    "import json\n",
    "import requests\n",
    "from dotenv import load_dotenv"
   ]
  },
  {
   "cell_type": "code",
   "execution_count": 4,
   "id": "783efb9e",
   "metadata": {},
   "outputs": [],
   "source": [
    "load_dotenv()\n",
    "if not os.getenv(\"OPENROUTER_API_KEY\"):\n",
    "    print(\"OPENROUTER_API_KEY not found!\")"
   ]
  },
  {
   "cell_type": "code",
   "execution_count": 13,
   "id": "b8fff8db",
   "metadata": {},
   "outputs": [
    {
     "name": "stdout",
     "output_type": "stream",
     "text": [
      "{\n",
      "  \"id\": \"gen-1760568251-mLpPums18gvysUf5yX2o\",\n",
      "  \"provider\": \"Chutes\",\n",
      "  \"model\": \"google/gemma-2-9b-it:free\",\n",
      "  \"object\": \"chat.completion\",\n",
      "  \"created\": 1760568251,\n",
      "  \"choices\": [\n",
      "    {\n",
      "      \"logprobs\": null,\n",
      "      \"finish_reason\": \"stop\",\n",
      "      \"native_finish_reason\": \"stop\",\n",
      "      \"index\": 0,\n",
      "      \"message\": {\n",
      "        \"role\": \"assistant\",\n",
      "        \"content\": \"\\nThat's a question that has been pondered by philosophers and individuals for centuries!  There isn't a single answer that will satisfy everyone, as the meaning of life is often a personal and individual interpretation. \\n\\nHere are some perspectives to consider:\\n\\n* **Finding Purpose:** Many find meaning in pursuing goals, contributing to something larger than themselves, or making a difference in the world. This could involve careers, relationships, hobbies, or activism.\\n* **Experiencing and Learning:** Some find meaning in the journey itself, embracing experiences, learning new things, and growing as individuals. \\n\\n* **Connecting with Others:** Strong relationships and a sense of belonging can provide deep meaning and purpose in life.\\n\\n* **Creativity and Self-Expression:** For some, creating art, music, writing, or other forms of expression can be a source of profound meaning.\\n* **Seeking Knowledge and Understanding:**  The pursuit of knowledge, whether about the universe, ourselves, or other aspects of existence, can be a fulfilling endeavor.\\n* **Living in the Present Moment:** Some believe that finding meaning lies in fully appreciating and being present in each moment, rather than dwelling on the past or worrying about the future.\\n\\nUltimately, the meaning of life is what you make it. It's up to each individual to explore different ideas, experiences, and values to discover what brings them a sense of purpose and fulfillment.\\n\\nWhat do *you* think gives life meaning?\",\n",
      "        \"refusal\": null,\n",
      "        \"reasoning\": null\n",
      "      }\n",
      "    }\n",
      "  ],\n",
      "  \"usage\": {\n",
      "    \"prompt_tokens\": 27,\n",
      "    \"completion_tokens\": 299,\n",
      "    \"total_tokens\": 326\n",
      "  }\n",
      "}\n",
      "\n",
      "That's a question that has been pondered by philosophers and individuals for centuries!  There isn't a single answer that will satisfy everyone, as the meaning of life is often a personal and individual interpretation. \n",
      "\n",
      "Here are some perspectives to consider:\n",
      "\n",
      "* **Finding Purpose:** Many find meaning in pursuing goals, contributing to something larger than themselves, or making a difference in the world. This could involve careers, relationships, hobbies, or activism.\n",
      "* **Experiencing and Learning:** Some find meaning in the journey itself, embracing experiences, learning new things, and growing as individuals. \n",
      "\n",
      "* **Connecting with Others:** Strong relationships and a sense of belonging can provide deep meaning and purpose in life.\n",
      "\n",
      "* **Creativity and Self-Expression:** For some, creating art, music, writing, or other forms of expression can be a source of profound meaning.\n",
      "* **Seeking Knowledge and Understanding:**  The pursuit of knowledge, whether about the universe, ourselves, or other aspects of existence, can be a fulfilling endeavor.\n",
      "* **Living in the Present Moment:** Some believe that finding meaning lies in fully appreciating and being present in each moment, rather than dwelling on the past or worrying about the future.\n",
      "\n",
      "Ultimately, the meaning of life is what you make it. It's up to each individual to explore different ideas, experiences, and values to discover what brings them a sense of purpose and fulfillment.\n",
      "\n",
      "What do *you* think gives life meaning?\n"
     ]
    }
   ],
   "source": [
    "api_key = os.getenv(\"OPENROUTER_API_KEY\")\n",
    "\n",
    "headers = {\n",
    "    \"Authorization\": f\"Bearer {api_key}\",\n",
    "    \"Content-Type\": \"application/json\"\n",
    "}\n",
    "\n",
    "payload = {\n",
    "    \"model\": \"google/gemma-2-9b-it:free\", # Feel free to change this to anymodel available via OpenRouter\n",
    "    \"messages\": [\n",
    "        {\"role\": \"system\", \"content\": \"You are a helpful assistant.\"},\n",
    "        {\"role\": \"user\", \"content\": \"What is the meaning of life?\"}\n",
    "    ]\n",
    "}\n",
    "\n",
    "try:\n",
    "    response = requests.post(\n",
    "        \"https://openrouter.ai/api/v1/chat/completions\",\n",
    "        headers=headers,\n",
    "        json=payload,\n",
    "        timeout=60,\n",
    "    )\n",
    "    response.raise_for_status()\n",
    "    data = resp.json()\n",
    "    print(json.dumps(data, indent=2))\n",
    "except requests.exceptions.RequestException as e:\n",
    "    print(\"Request failed:\", e)\n",
    "    if 'resp' in locals():\n",
    "            print(\"Server response:\", resp.text[:2000])\n",
    "\n"
   ]
  },
  {
   "cell_type": "code",
   "execution_count": null,
   "id": "ea3441f1-4016-42bf-8f27-3ecd343bba8d",
   "metadata": {},
   "outputs": [],
   "source": [
    "message_text = data[\"choices\"][0][\"message\"][\"content\"]\n",
    "print(message_text)"
   ]
  }
 ],
 "metadata": {
  "kernelspec": {
   "display_name": "Python 3 (ipykernel)",
   "language": "python",
   "name": "python3"
  },
  "language_info": {
   "codemirror_mode": {
    "name": "ipython",
    "version": 3
   },
   "file_extension": ".py",
   "mimetype": "text/x-python",
   "name": "python",
   "nbconvert_exporter": "python",
   "pygments_lexer": "ipython3",
   "version": "3.12.7"
  }
 },
 "nbformat": 4,
 "nbformat_minor": 5
}
