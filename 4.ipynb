{
 "cells": [
  {
   "cell_type": "markdown",
   "id": "ca661c6f",
   "metadata": {},
   "source": [
    "# Conversation memory"
   ]
  },
  {
   "cell_type": "code",
   "execution_count": null,
   "id": "a8690d60-611c-4344-84cf-a61bd26de995",
   "metadata": {},
   "outputs": [],
   "source": [
    "import os\n",
    "import json\n",
    "from dotenv import load_dotenv\n",
    "from openai import OpenAI"
   ]
  },
  {
   "cell_type": "code",
   "execution_count": null,
   "id": "783efb9e",
   "metadata": {},
   "outputs": [],
   "source": [
    "load_dotenv()\n",
    "if not os.getenv(\"OPENROUTER_API_KEY\"):\n",
    "    print(\"OPENROUTER_API_KEY not found!\")"
   ]
  },
  {
   "cell_type": "code",
   "execution_count": null,
   "id": "b8fff8db",
   "metadata": {},
   "outputs": [],
   "source": [
    "api_key = os.getenv(\"OPENROUTER_API_KEY\")\n",
    "\n",
    "client = OpenAI(\n",
    "  base_url=\"https://openrouter.ai/api/v1\",\n",
    "  api_key=api_key,\n",
    ")"
   ]
  },
  {
   "cell_type": "code",
   "execution_count": null,
   "id": "4b18e425-14c6-4d65-8cef-2b4d249afd62",
   "metadata": {},
   "outputs": [],
   "source": [
    "conversation = []"
   ]
  },
  {
   "cell_type": "code",
   "execution_count": null,
   "id": "c4ee87b4-0556-4c72-994d-f2e610c4cb2d",
   "metadata": {},
   "outputs": [],
   "source": [
    "def get_ai_response(new_message):\n",
    "    conversation.append({\"role\": \"user\", \"content\": new_message})\n",
    "    \n",
    "    completion = client.chat.completions.create(\n",
    "      model=\"google/gemma-2-9b-it:free\", # Feel free to change this to any model available via OpenRouter\n",
    "      messages=conversation\n",
    "    )\n",
    "\n",
    "    conversation.append({\"role\":\"assistant\", \"content\": completion.choices[0].message.content})\n",
    "    print(json.dumps(conversation, indent=2))"
   ]
  },
  {
   "cell_type": "code",
   "execution_count": null,
   "id": "73bc95e4-0ec5-4323-88d9-61990a6a24af",
   "metadata": {},
   "outputs": [],
   "source": [
    "new_message = \"What's my name?\"\n",
    "get_ai_response(new_message)"
   ]
  }
 ],
 "metadata": {
  "kernelspec": {
   "display_name": "Python 3 (ipykernel)",
   "language": "python",
   "name": "python3"
  },
  "language_info": {
   "codemirror_mode": {
    "name": "ipython",
    "version": 3
   },
   "file_extension": ".py",
   "mimetype": "text/x-python",
   "name": "python",
   "nbconvert_exporter": "python",
   "pygments_lexer": "ipython3",
   "version": "3.12.7"
  }
 },
 "nbformat": 4,
 "nbformat_minor": 5
}
