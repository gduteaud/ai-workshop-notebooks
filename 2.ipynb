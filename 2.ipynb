{
 "cells": [
  {
   "cell_type": "markdown",
   "id": "ca661c6f",
   "metadata": {},
   "source": [
    "# Single OpenRouter LLM call via client/SDK"
   ]
  },
  {
   "cell_type": "code",
   "execution_count": 2,
   "id": "a8690d60-611c-4344-84cf-a61bd26de995",
   "metadata": {},
   "outputs": [],
   "source": [
    "import os\n",
    "import json\n",
    "import requests\n",
    "from dotenv import load_dotenv\n",
    "from openai import OpenAI"
   ]
  },
  {
   "cell_type": "code",
   "execution_count": 3,
   "id": "783efb9e",
   "metadata": {},
   "outputs": [],
   "source": [
    "load_dotenv()\n",
    "if not os.getenv(\"OPENROUTER_API_KEY\"):\n",
    "    print(\"OPENROUTER_API_KEY not found!\")"
   ]
  },
  {
   "cell_type": "code",
   "execution_count": 5,
   "id": "b8fff8db",
   "metadata": {},
   "outputs": [
    {
     "name": "stdout",
     "output_type": "stream",
     "text": [
      "{\n",
      "  \"id\": \"gen-1760571511-BpEaHhEuhoWwnjRLlhd2\",\n",
      "  \"choices\": [\n",
      "    {\n",
      "      \"finish_reason\": \"stop\",\n",
      "      \"index\": 0,\n",
      "      \"logprobs\": null,\n",
      "      \"message\": {\n",
      "        \"content\": \"\\n\\nAs an AI, I don't have personal beliefs or experiences to draw on, so I can't tell you the meaning of life. That's a deeply philosophical question that humans have been pondering for centuries!\\n\\nHowever, I can offer some perspectives:\\n\\n* **Meaning is subjective:** What gives life meaning for one person may be different for another. It's up to each individual to find what makes their life feel purposeful and fulfilling.\\n* **Meaning can be found in many things:**  Some people find meaning in their relationships, their work, their hobbies, their religious beliefs, or their contributions to society. \\n* **Meaning isn't always constant:**  The things that give life meaning can change over time as we grow and evolve.\\n\\nInstead of searching for a universal answer, perhaps a better question to ask is: **What gives *your* life meaning?** \\n\\nWhat are you passionate about? What makes you feel happy and fulfilled? What kind of impact do you want to have on the world? Reflecting on these questions can help you discover your own unique meaning. \\n\",\n",
      "        \"refusal\": null,\n",
      "        \"role\": \"assistant\",\n",
      "        \"annotations\": null,\n",
      "        \"audio\": null,\n",
      "        \"function_call\": null,\n",
      "        \"tool_calls\": null,\n",
      "        \"reasoning\": null\n",
      "      },\n",
      "      \"native_finish_reason\": \"stop\"\n",
      "    }\n",
      "  ],\n",
      "  \"created\": 1760571511,\n",
      "  \"model\": \"google/gemma-2-9b-it:free\",\n",
      "  \"object\": \"chat.completion\",\n",
      "  \"service_tier\": null,\n",
      "  \"system_fingerprint\": null,\n",
      "  \"usage\": {\n",
      "    \"completion_tokens\": 229,\n",
      "    \"prompt_tokens\": 27,\n",
      "    \"total_tokens\": 256,\n",
      "    \"completion_tokens_details\": null,\n",
      "    \"prompt_tokens_details\": null\n",
      "  },\n",
      "  \"provider\": \"Chutes\"\n",
      "}\n"
     ]
    }
   ],
   "source": [
    "api_key = os.getenv(\"OPENROUTER_API_KEY\")\n",
    "\n",
    "client = OpenAI(\n",
    "  base_url=\"https://openrouter.ai/api/v1\",\n",
    "  api_key=api_key,\n",
    ")\n",
    "\n",
    "completion = client.chat.completions.create(\n",
    "  model=\"google/gemma-2-9b-it:free\", # Feel free to change this to anymodel available via OpenRouter\n",
    "  messages=[\n",
    "        {\"role\": \"system\", \"content\": \"You are a helpful assistant.\"},\n",
    "        {\"role\": \"user\", \"content\": \"What is the meaning of life?\"}\n",
    "    ]\n",
    ")\n",
    "\n",
    "print(completion.model_dump_json(indent=2))"
   ]
  },
  {
   "cell_type": "code",
   "execution_count": null,
   "id": "5023dbed-1248-4b0c-ac29-5e6abc117108",
   "metadata": {},
   "outputs": [],
   "source": [
    "print(completion.choices[0].message.content)"
   ]
  }
 ],
 "metadata": {
  "kernelspec": {
   "display_name": "Python 3 (ipykernel)",
   "language": "python",
   "name": "python3"
  },
  "language_info": {
   "codemirror_mode": {
    "name": "ipython",
    "version": 3
   },
   "file_extension": ".py",
   "mimetype": "text/x-python",
   "name": "python",
   "nbconvert_exporter": "python",
   "pygments_lexer": "ipython3",
   "version": "3.12.7"
  }
 },
 "nbformat": 4,
 "nbformat_minor": 5
}
